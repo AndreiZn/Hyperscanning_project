{
 "cells": [
  {
   "cell_type": "code",
   "execution_count": 64,
   "metadata": {},
   "outputs": [],
   "source": [
    "import mne\n",
    "import numpy as np\n",
    "import matplotlib.pyplot as plt\n",
    "import os\n",
    "import scipy.io"
   ]
  },
  {
   "cell_type": "code",
   "execution_count": 2,
   "metadata": {},
   "outputs": [],
   "source": [
    "# 8 channels from 10-20 montage system.\n",
    "channels = [\n",
    "    # frontal\n",
    "    'Fz',\n",
    "    # central and temporal\n",
    "    'C3',\n",
    "    'Cz',\n",
    "    'C4',\n",
    "    # parietal\n",
    "    'Po7',\n",
    "    'Pz',\n",
    "    'Po8',\n",
    "    # occipital\n",
    "    'Oz',\n",
    "]"
   ]
  },
  {
   "cell_type": "code",
   "execution_count": 3,
   "metadata": {},
   "outputs": [
    {
     "data": {
      "image/png": "[encoded data removed]",
      "text/plain": [
       "<Figure size 720x504 with 1 Axes>"
      ]
     },
     "metadata": {
      "needs_background": "light"
     },
     "output_type": "display_data"
    }
   ],
   "source": [
    "# plot EEG montage\n",
    "\n",
    "def rename_ch(ch_old):\n",
    "    if ch_old[-2] == '.':\n",
    "        return ch_old[:-2]\n",
    "    else:\n",
    "        return ch_old[:-1]\n",
    "\n",
    "sample = mne.io.read_raw_edf('S003R03.edf', verbose=False, preload=True)\n",
    "sample.rename_channels(rename_ch)\n",
    "sample = sample.pick_channels(channels)\n",
    "ch_map = {ch.lower(): ch for ch in sample.ch_names}\n",
    "ten_twenty_montage = mne.channels.make_standard_montage('standard_1020')\n",
    "ten_twenty_montage.ch_names = [ch_map[ch.lower()] if ch.lower() in ch_map else ch \n",
    "                               for ch in ten_twenty_montage.ch_names]\n",
    "sample.set_montage(ten_twenty_montage)\n",
    "\n",
    "# plotting\n",
    "fig = plt.figure(figsize=(10,7))\n",
    "ax = fig.add_subplot(111)\n",
    "sample.plot_sensors(show_names=True, axes=ax)\n",
    "plt.show()"
   ]
  },
  {
   "cell_type": "code",
   "execution_count": 4,
   "metadata": {},
   "outputs": [],
   "source": [
    "sampling_rate = 250 #Hz"
   ]
  },
  {
   "cell_type": "markdown",
   "metadata": {},
   "source": [
    "#### 3 experiments were conducted generating 7 files for each subject:\n",
    "01. Speaking_interacting;\n",
    "02. Speaking_alone;\n",
    "03. Pong_Playing against each other;\n",
    "04. Pong_Playing against PC;\n",
    "05. CSGO_Playing against each other;\n",
    "06. CSGO_Playing together against PC;\n",
    "07. CSGO_Playing alone against PC;\n",
    "\n",
    "#### It is necessary to compare subjects' brain activity in experiments:\n",
    "- 01 vs 02\n",
    "- 03 vs 04\n",
    "- 05 vs 07\n",
    "- 06 vs 07"
   ]
  },
  {
   "cell_type": "code",
   "execution_count": 132,
   "metadata": {},
   "outputs": [],
   "source": [
    "# function get_data receives an array of size (2,) such as [3, 4]\n",
    "# it loads data of experiments with the corresponding indices for both subjects and returns data matrices\n",
    "# input: exps - an array of size (2,) such as [3, 4], which contrains indices of the experiments\n",
    "#        root_data_folder - path of the folder, which contains mat files with preprocessed data\n",
    "def get_data(exps, root_data_folder = 'HS_data_preprocessed/'):\n",
    "    \n",
    "    # list subject folders\n",
    "    folders = os.listdir(root_data_folder)\n",
    "    sub_folders = [root_data_folder + folders[i] + '/' for i in range(len(folders)) if folders[i] != '.DS_Store']\n",
    "    \n",
    "    # get files paths\n",
    "    num_exp = 7\n",
    "    sub1_file_paths, sub2_file_paths = np.sort(os.listdir(sub_folders[0])), np.sort(os.listdir(sub_folders[1]))\n",
    "    sub1_file_paths = [sub_folders[0] + sub1_file_paths[i] for i in range(num_exp)]\n",
    "    sub2_file_paths = [sub_folders[1] + sub2_file_paths[i] for i in range(num_exp)]\n",
    "    sub_file_paths = [sub1_file_paths, sub2_file_paths]\n",
    "    sub1_path, sub1_ref_path = sub_file_paths[0][exps[0]-1], sub_file_paths[0][exps[1]-1]\n",
    "    sub2_path, sub2_ref_path = sub_file_paths[1][exps[0]-1], sub_file_paths[1][exps[1]-1]\n",
    "    \n",
    "    # loading data from mat files (preprocessed data)\n",
    "    sub1_data, sub1_ref_data = scipy.io.loadmat(sub1_path), scipy.io.loadmat(sub1_ref_path)\n",
    "    sub2_data, sub2_ref_data = scipy.io.loadmat(sub2_path), scipy.io.loadmat(sub2_ref_path)\n",
    "    sub1_data, sub1_ref_data = sub1_data[\"EEG\"][0][0][15], sub1_ref_data[\"EEG\"][0][0][15]\n",
    "    sub2_data, sub2_ref_data = sub2_data[\"EEG\"][0][0][15], sub2_ref_data[\"EEG\"][0][0][15]\n",
    "\n",
    "    # cut data for each subject to have the same number of time samples in data matrices\n",
    "    ts1, ts1_ref, ts2, ts2_ref = np.size(sub1_data, 1), np.size(sub1_ref_data, 1), np.size(sub2_data, 1), np.size(sub2_ref_data, 1)\n",
    "    ts1_new, ts2_new = min(ts1, ts1_ref), min(ts2, ts2_ref)\n",
    "    sub1_data, sub1_ref_data = sub1_data[:, :ts1_new], sub1_ref_data[:, :ts1_new]\n",
    "    sub2_data, sub2_ref_data = sub2_data[:, :ts2_new], sub2_ref_data[:, :ts2_new]\n",
    "    \n",
    "    return sub1_data, sub1_ref_data, sub2_data, sub2_ref_data"
   ]
  },
  {
   "cell_type": "code",
   "execution_count": 133,
   "metadata": {},
   "outputs": [],
   "source": [
    "exp_pairs = [[1, 2], [3, 4], [5, 7], [6, 7]]\n",
    "for exp_pair in exp_pairs:\n",
    "    sub1, sub1_ref, sub2, sub2_ref = get_data(exps)"
   ]
  },
  {
   "cell_type": "code",
   "execution_count": null,
   "metadata": {},
   "outputs": [],
   "source": []
  }
 ],
 "metadata": {
  "kernelspec": {
   "display_name": "Python 3",
   "language": "python",
   "name": "python3"
  },
  "language_info": {
   "codemirror_mode": {
    "name": "ipython",
    "version": 3
   },
   "file_extension": ".py",
   "mimetype": "text/x-python",
   "name": "python",
   "nbconvert_exporter": "python",
   "pygments_lexer": "ipython3",
   "version": "3.7.6"
  }
 },
 "nbformat": 4,
 "nbformat_minor": 4
}
