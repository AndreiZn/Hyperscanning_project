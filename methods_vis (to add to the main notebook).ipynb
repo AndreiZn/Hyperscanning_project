{
 "cells": [
  {
   "cell_type": "markdown",
   "metadata": {},
   "source": [
    "<img src=\"images/methods_vis/cor_step1.png\">\n",
    "<img src=\"images/methods_vis/cor_step2_1.png\">\n",
    "<img src=\"images/methods_vis/cor_step2_2.png\">\n",
    "<img src=\"images/methods_vis/cor_step3.png\">"
   ]
  },
  {
   "cell_type": "markdown",
   "metadata": {},
   "source": [
    "<img src=\"images/methods_vis/bandpass_step1.png\">\n",
    "<img src=\"images/methods_vis/bandpass_step2.png\">\n",
    "<img src=\"images/methods_vis/bandpass_step3.png\">"
   ]
  },
  {
   "cell_type": "code",
   "execution_count": null,
   "metadata": {},
   "outputs": [],
   "source": []
  }
 ],
 "metadata": {
  "kernelspec": {
   "display_name": "Python 3",
   "language": "python",
   "name": "python3"
  },
  "language_info": {
   "codemirror_mode": {
    "name": "ipython",
    "version": 3
   },
   "file_extension": ".py",
   "mimetype": "text/x-python",
   "name": "python",
   "nbconvert_exporter": "python",
   "pygments_lexer": "ipython3",
   "version": "3.7.6"
  }
 },
 "nbformat": 4,
 "nbformat_minor": 4
}
